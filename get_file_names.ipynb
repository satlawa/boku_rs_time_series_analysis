{
 "cells": [
  {
   "cell_type": "code",
   "execution_count": 35,
   "metadata": {},
   "outputs": [],
   "source": [
    "import os\n",
    "import glob"
   ]
  },
  {
   "cell_type": "code",
   "execution_count": 36,
   "metadata": {},
   "outputs": [],
   "source": [
    "d = \"/home/philipp/Documents/boku/remote_sensing_time_series/06_exercise/process/\""
   ]
  },
  {
   "cell_type": "code",
   "execution_count": 37,
   "metadata": {},
   "outputs": [
    {
     "data": {
      "text/plain": [
       "699"
      ]
     },
     "execution_count": 37,
     "metadata": {},
     "output_type": "execute_result"
    }
   ],
   "source": [
    "files = glob.glob(\"/home/philipp/Documents/boku/remote_sensing_time_series/06_exercise/process/*NDVI.envi\")\n",
    "files_s = set(files)\n",
    "files = list(files_s)\n",
    "len(files)"
   ]
  },
  {
   "cell_type": "code",
   "execution_count": 38,
   "metadata": {},
   "outputs": [
    {
     "data": {
      "text/plain": [
       "690"
      ]
     },
     "execution_count": 38,
     "metadata": {},
     "output_type": "execute_result"
    }
   ],
   "source": [
    "files_filter = []\n",
    "for f in files:\n",
    "    date = int(f[f.find(\"1.A\")+3:f.find(\"1.A\")+10])\n",
    "    if (date > 2003000) & (date < 2017362):\n",
    "        files_filter.append(f[f.rfind(\"/\")+1:])\n",
    "files_f_s = sorted(files_filter)\n",
    "len(files_f_s)"
   ]
  },
  {
   "cell_type": "code",
   "execution_count": 39,
   "metadata": {},
   "outputs": [],
   "source": [
    "MyFile=open('KE_MODIS_ndvi.txt','w')\n",
    "\n",
    "MyFile.write(str(len(files_f_s)))\n",
    "MyFile.write('\\n')\n",
    "    \n",
    "for element in files_f_s:\n",
    "    MyFile.write(element)\n",
    "    MyFile.write('\\n')\n",
    "MyFile.close()"
   ]
  },
  {
   "cell_type": "code",
   "execution_count": null,
   "metadata": {},
   "outputs": [],
   "source": []
  },
  {
   "cell_type": "code",
   "execution_count": null,
   "metadata": {},
   "outputs": [],
   "source": []
  },
  {
   "cell_type": "code",
   "execution_count": 30,
   "metadata": {},
   "outputs": [
    {
     "data": {
      "text/plain": [
       "699"
      ]
     },
     "execution_count": 30,
     "metadata": {},
     "output_type": "execute_result"
    }
   ],
   "source": [
    "files = glob.glob(\"/home/philipp/Documents/boku/remote_sensing_time_series/06_exercise/process/*pixel_reliability.envi\")\n",
    "files_s = set(files)\n",
    "files = list(files_s)\n",
    "len(files)"
   ]
  },
  {
   "cell_type": "code",
   "execution_count": 31,
   "metadata": {},
   "outputs": [
    {
     "data": {
      "text/plain": [
       "690"
      ]
     },
     "execution_count": 31,
     "metadata": {},
     "output_type": "execute_result"
    }
   ],
   "source": [
    "files_filter = []\n",
    "for f in files:\n",
    "    date = int(f[f.find(\"1.A\")+3:f.find(\"1.A\")+10])\n",
    "    if (date > 2003000) & (date < 2017362):\n",
    "        files_filter.append(f[f.rfind(\"/\")+1:])\n",
    "files_f_s = sorted(files_filter)\n",
    "len(files_f_s)"
   ]
  },
  {
   "cell_type": "code",
   "execution_count": 32,
   "metadata": {},
   "outputs": [],
   "source": [
    "MyFile=open('KE_MODIS_pixel_reliability.txt','w')\n",
    "\n",
    "MyFile.write(str(len(files_f_s)))\n",
    "MyFile.write('\\n')\n",
    "    \n",
    "for element in files_f_s:\n",
    "    MyFile.write(element)\n",
    "    MyFile.write('\\n')\n",
    "MyFile.close()"
   ]
  },
  {
   "cell_type": "code",
   "execution_count": null,
   "metadata": {},
   "outputs": [],
   "source": []
  }
 ],
 "metadata": {
  "kernelspec": {
   "display_name": "data_science",
   "language": "python",
   "name": "data_science"
  },
  "language_info": {
   "codemirror_mode": {
    "name": "ipython",
    "version": 3
   },
   "file_extension": ".py",
   "mimetype": "text/x-python",
   "name": "python",
   "nbconvert_exporter": "python",
   "pygments_lexer": "ipython3",
   "version": "3.8.5"
  }
 },
 "nbformat": 4,
 "nbformat_minor": 4
}
